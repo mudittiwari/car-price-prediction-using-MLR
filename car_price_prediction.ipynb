{
  "nbformat": 4,
  "nbformat_minor": 0,
  "metadata": {
    "colab": {
      "name": "car price prediction.ipynb",
      "provenance": []
    },
    "kernelspec": {
      "name": "python3",
      "display_name": "Python 3"
    }
  },
  "cells": [
    {
      "cell_type": "code",
      "metadata": {
        "id": "kzmvW_g0e0pr",
        "colab_type": "code",
        "colab": {}
      },
      "source": [
        "import pandas as pd\n",
        "import numpy as np\n",
        "from sklearn.model_selection import train_test_split\n",
        "from sklearn.linear_model import LinearRegression\n",
        "from sklearn.preprocessing import LabelEncoder,OneHotEncoder\n",
        "from sklearn.metrics import r2_score\n",
        "import statsmodels.regression.linear_model as sm"
      ],
      "execution_count": 62,
      "outputs": []
    },
    {
      "cell_type": "code",
      "metadata": {
        "id": "FozW0AdpgAa3",
        "colab_type": "code",
        "colab": {
          "base_uri": "https://localhost:8080/",
          "height": 206
        },
        "outputId": "5d062867-99d1-479e-8626-bf976bff3450"
      },
      "source": [
        "df=pd.read_csv('dataset.csv')\n",
        "df.head()"
      ],
      "execution_count": 63,
      "outputs": [
        {
          "output_type": "execute_result",
          "data": {
            "text/html": [
              "<div>\n",
              "<style scoped>\n",
              "    .dataframe tbody tr th:only-of-type {\n",
              "        vertical-align: middle;\n",
              "    }\n",
              "\n",
              "    .dataframe tbody tr th {\n",
              "        vertical-align: top;\n",
              "    }\n",
              "\n",
              "    .dataframe thead th {\n",
              "        text-align: right;\n",
              "    }\n",
              "</style>\n",
              "<table border=\"1\" class=\"dataframe\">\n",
              "  <thead>\n",
              "    <tr style=\"text-align: right;\">\n",
              "      <th></th>\n",
              "      <th>name</th>\n",
              "      <th>year</th>\n",
              "      <th>selling_price</th>\n",
              "      <th>km_driven</th>\n",
              "      <th>fuel</th>\n",
              "      <th>seller_type</th>\n",
              "      <th>transmission</th>\n",
              "      <th>owner</th>\n",
              "    </tr>\n",
              "  </thead>\n",
              "  <tbody>\n",
              "    <tr>\n",
              "      <th>0</th>\n",
              "      <td>Maruti 800 AC</td>\n",
              "      <td>2007</td>\n",
              "      <td>60000</td>\n",
              "      <td>70000</td>\n",
              "      <td>Petrol</td>\n",
              "      <td>Individual</td>\n",
              "      <td>Manual</td>\n",
              "      <td>First Owner</td>\n",
              "    </tr>\n",
              "    <tr>\n",
              "      <th>1</th>\n",
              "      <td>Maruti Wagon R LXI Minor</td>\n",
              "      <td>2007</td>\n",
              "      <td>135000</td>\n",
              "      <td>50000</td>\n",
              "      <td>Petrol</td>\n",
              "      <td>Individual</td>\n",
              "      <td>Manual</td>\n",
              "      <td>First Owner</td>\n",
              "    </tr>\n",
              "    <tr>\n",
              "      <th>2</th>\n",
              "      <td>Hyundai Verna 1.6 SX</td>\n",
              "      <td>2012</td>\n",
              "      <td>600000</td>\n",
              "      <td>100000</td>\n",
              "      <td>Diesel</td>\n",
              "      <td>Individual</td>\n",
              "      <td>Manual</td>\n",
              "      <td>First Owner</td>\n",
              "    </tr>\n",
              "    <tr>\n",
              "      <th>3</th>\n",
              "      <td>Datsun RediGO T Option</td>\n",
              "      <td>2017</td>\n",
              "      <td>250000</td>\n",
              "      <td>46000</td>\n",
              "      <td>Petrol</td>\n",
              "      <td>Individual</td>\n",
              "      <td>Manual</td>\n",
              "      <td>First Owner</td>\n",
              "    </tr>\n",
              "    <tr>\n",
              "      <th>4</th>\n",
              "      <td>Honda Amaze VX i-DTEC</td>\n",
              "      <td>2014</td>\n",
              "      <td>450000</td>\n",
              "      <td>141000</td>\n",
              "      <td>Diesel</td>\n",
              "      <td>Individual</td>\n",
              "      <td>Manual</td>\n",
              "      <td>Second Owner</td>\n",
              "    </tr>\n",
              "  </tbody>\n",
              "</table>\n",
              "</div>"
            ],
            "text/plain": [
              "                       name  year  ...  transmission         owner\n",
              "0             Maruti 800 AC  2007  ...        Manual   First Owner\n",
              "1  Maruti Wagon R LXI Minor  2007  ...        Manual   First Owner\n",
              "2      Hyundai Verna 1.6 SX  2012  ...        Manual   First Owner\n",
              "3    Datsun RediGO T Option  2017  ...        Manual   First Owner\n",
              "4     Honda Amaze VX i-DTEC  2014  ...        Manual  Second Owner\n",
              "\n",
              "[5 rows x 8 columns]"
            ]
          },
          "metadata": {
            "tags": []
          },
          "execution_count": 63
        }
      ]
    },
    {
      "cell_type": "code",
      "metadata": {
        "id": "3ZHAUfClgrNd",
        "colab_type": "code",
        "colab": {}
      },
      "source": [
        "real_x=df.drop(labels=[\"name\",\"selling_price\"],axis=1)\n",
        "real_y=df[\"selling_price\"]"
      ],
      "execution_count": 64,
      "outputs": []
    },
    {
      "cell_type": "code",
      "metadata": {
        "id": "veiFab0MiK32",
        "colab_type": "code",
        "colab": {
          "base_uri": "https://localhost:8080/",
          "height": 164
        },
        "outputId": "c0ba94aa-6858-484b-958b-5a0f55c4bbe2"
      },
      "source": [
        "real_x=real_x.to_numpy()\n",
        "real_y=real_y.to_numpy()\n",
        "real_x"
      ],
      "execution_count": 65,
      "outputs": [
        {
          "output_type": "execute_result",
          "data": {
            "text/plain": [
              "array([[2007, 70000, 'Petrol', 'Individual', 'Manual', 'First Owner'],\n",
              "       [2007, 50000, 'Petrol', 'Individual', 'Manual', 'First Owner'],\n",
              "       [2012, 100000, 'Diesel', 'Individual', 'Manual', 'First Owner'],\n",
              "       ...,\n",
              "       [2009, 83000, 'Petrol', 'Individual', 'Manual', 'Second Owner'],\n",
              "       [2016, 90000, 'Diesel', 'Individual', 'Manual', 'First Owner'],\n",
              "       [2016, 40000, 'Petrol', 'Individual', 'Manual', 'First Owner']],\n",
              "      dtype=object)"
            ]
          },
          "metadata": {
            "tags": []
          },
          "execution_count": 65
        }
      ]
    },
    {
      "cell_type": "code",
      "metadata": {
        "id": "rf5PHGiZiUni",
        "colab_type": "code",
        "colab": {}
      },
      "source": [
        "le=LabelEncoder()\n",
        "real_x[:,2]=le.fit_transform(real_x[:,2])"
      ],
      "execution_count": 66,
      "outputs": []
    },
    {
      "cell_type": "code",
      "metadata": {
        "id": "sPeQ8eLGjuc9",
        "colab_type": "code",
        "colab": {}
      },
      "source": [
        "real_x[:,3]=le.fit_transform(real_x[:,3])"
      ],
      "execution_count": 67,
      "outputs": []
    },
    {
      "cell_type": "code",
      "metadata": {
        "id": "cCW7o7sHj66X",
        "colab_type": "code",
        "colab": {}
      },
      "source": [
        "real_x[:,4]=le.fit_transform(real_x[:,4])"
      ],
      "execution_count": 68,
      "outputs": []
    },
    {
      "cell_type": "code",
      "metadata": {
        "id": "daMJakNGkCHr",
        "colab_type": "code",
        "colab": {}
      },
      "source": [
        "real_x[:,5]=le.fit_transform(real_x[:,5])"
      ],
      "execution_count": 69,
      "outputs": []
    },
    {
      "cell_type": "code",
      "metadata": {
        "id": "EdN3lRPxkHCs",
        "colab_type": "code",
        "colab": {}
      },
      "source": [
        "array_one_tobeonehotencoded=real_x[:,2]\n",
        "array_one_tobeonehotencoded=array_one_tobeonehotencoded.reshape(-1,1)\n",
        "oneHE=OneHotEncoder(handle_unknown='ignore')\n",
        "newarray_one=oneHE.fit_transform(array_one_tobeonehotencoded)\n",
        "newarray_one=newarray_one.toarray()\n",
        "newarray_one=np.delete(newarray_one,0,axis=1)\n",
        "#here we created one hot encoded array and removed one column as dummy varible"
      ],
      "execution_count": 70,
      "outputs": []
    },
    {
      "cell_type": "code",
      "metadata": {
        "id": "xLov8jtJnQXi",
        "colab_type": "code",
        "colab": {}
      },
      "source": [
        "array_two_tobeonehotencoded=real_x[:,3]\n",
        "array_two_tobeonehotencoded=array_one_tobeonehotencoded.reshape(-1,1)\n",
        "oneHE=OneHotEncoder(handle_unknown='ignore')\n",
        "newarray_two=oneHE.fit_transform(array_two_tobeonehotencoded)\n",
        "newarray_two=newarray_two.toarray()\n",
        "newarray_two=np.delete(newarray_two,0,axis=1)"
      ],
      "execution_count": 71,
      "outputs": []
    },
    {
      "cell_type": "code",
      "metadata": {
        "id": "56ZIf7Flnd67",
        "colab_type": "code",
        "colab": {}
      },
      "source": [
        "array_three_tobeonehotencoded=real_x[:,4]\n",
        "array_three_tobeonehotencoded=array_three_tobeonehotencoded.reshape(-1,1)\n",
        "oneHE=OneHotEncoder(handle_unknown='ignore')\n",
        "newarray_three=oneHE.fit_transform(array_three_tobeonehotencoded)\n",
        "newarray_three=newarray_three.toarray()\n",
        "newarray_three=np.delete(newarray_three,0,axis=1)"
      ],
      "execution_count": 72,
      "outputs": []
    },
    {
      "cell_type": "code",
      "metadata": {
        "id": "MvfogtX0odJp",
        "colab_type": "code",
        "colab": {}
      },
      "source": [
        "array_four_tobeonehotencoded=real_x[:,5]\n",
        "array_four_tobeonehotencoded=array_four_tobeonehotencoded.reshape(-1,1)\n",
        "oneHE=OneHotEncoder(handle_unknown='ignore')\n",
        "newarray_four=oneHE.fit_transform(array_four_tobeonehotencoded)\n",
        "newarray_four=newarray_four.toarray()\n",
        "newarray_four=np.delete(newarray_four,0,axis=1)"
      ],
      "execution_count": 73,
      "outputs": []
    },
    {
      "cell_type": "code",
      "metadata": {
        "id": "lxEw2OTOo6gg",
        "colab_type": "code",
        "colab": {}
      },
      "source": [
        "real_x=np.delete(real_x,[2,3,4,5],axis=1)"
      ],
      "execution_count": 74,
      "outputs": []
    },
    {
      "cell_type": "code",
      "metadata": {
        "id": "owaIhHY3pTce",
        "colab_type": "code",
        "colab": {}
      },
      "source": [
        "real_x=np.concatenate((real_x,newarray_one),axis=1)"
      ],
      "execution_count": 75,
      "outputs": []
    },
    {
      "cell_type": "code",
      "metadata": {
        "id": "F-Nk9X71plWv",
        "colab_type": "code",
        "colab": {}
      },
      "source": [
        "real_x=np.concatenate((real_x,newarray_two),axis=1)"
      ],
      "execution_count": 76,
      "outputs": []
    },
    {
      "cell_type": "code",
      "metadata": {
        "id": "v91-BpGzpvvA",
        "colab_type": "code",
        "colab": {}
      },
      "source": [
        "real_x=np.concatenate((real_x,newarray_three),axis=1)"
      ],
      "execution_count": 77,
      "outputs": []
    },
    {
      "cell_type": "code",
      "metadata": {
        "id": "Brn2p4Iwp1Ye",
        "colab_type": "code",
        "colab": {}
      },
      "source": [
        "real_x=np.concatenate((real_x,newarray_four),axis=1)"
      ],
      "execution_count": 78,
      "outputs": []
    },
    {
      "cell_type": "code",
      "metadata": {
        "id": "0HEUT5a9q2Yb",
        "colab_type": "code",
        "colab": {}
      },
      "source": [
        "real_x=np.append(np.ones((4340,1)).astype(int),values=real_x,axis=1)"
      ],
      "execution_count": 79,
      "outputs": []
    },
    {
      "cell_type": "code",
      "metadata": {
        "id": "Yxs2kCC7p6RE",
        "colab_type": "code",
        "colab": {}
      },
      "source": [
        "training_x,testing_x,training_y,testing_y=train_test_split(real_x,real_y,test_size=0.3,random_state=0)"
      ],
      "execution_count": 80,
      "outputs": []
    },
    {
      "cell_type": "code",
      "metadata": {
        "id": "NmnRIa36qZBG",
        "colab_type": "code",
        "colab": {}
      },
      "source": [
        "regressor=LinearRegression()"
      ],
      "execution_count": 81,
      "outputs": []
    },
    {
      "cell_type": "code",
      "metadata": {
        "id": "mgkoROlgqdf-",
        "colab_type": "code",
        "colab": {
          "base_uri": "https://localhost:8080/",
          "height": 35
        },
        "outputId": "f19faa37-53d0-404f-c0b1-8957cf0d3c10"
      },
      "source": [
        "regressor.fit(training_x,training_y)"
      ],
      "execution_count": 82,
      "outputs": [
        {
          "output_type": "execute_result",
          "data": {
            "text/plain": [
              "LinearRegression(copy_X=True, fit_intercept=True, n_jobs=None, normalize=False)"
            ]
          },
          "metadata": {
            "tags": []
          },
          "execution_count": 82
        }
      ]
    },
    {
      "cell_type": "code",
      "metadata": {
        "id": "83inXeWvqhcN",
        "colab_type": "code",
        "colab": {}
      },
      "source": [
        "pred_y=regressor.predict(testing_x)"
      ],
      "execution_count": 83,
      "outputs": []
    },
    {
      "cell_type": "code",
      "metadata": {
        "id": "-9su9R-bqmRp",
        "colab_type": "code",
        "colab": {
          "base_uri": "https://localhost:8080/",
          "height": 35
        },
        "outputId": "7a7212f8-4c9b-4b3b-c452-49ebd6687519"
      },
      "source": [
        "score=r2_score(testing_y,pred_y)\n",
        "score"
      ],
      "execution_count": 84,
      "outputs": [
        {
          "output_type": "execute_result",
          "data": {
            "text/plain": [
              "0.48102005602602826"
            ]
          },
          "metadata": {
            "tags": []
          },
          "execution_count": 84
        }
      ]
    },
    {
      "cell_type": "code",
      "metadata": {
        "id": "mn1y3qrorbkt",
        "colab_type": "code",
        "colab": {}
      },
      "source": [
        "real_x_opt=real_x[:,[0,1,2,3,7,11,13,14,15]].astype('float64')"
      ],
      "execution_count": 85,
      "outputs": []
    },
    {
      "cell_type": "code",
      "metadata": {
        "id": "-cpQ1mBIxEgW",
        "colab_type": "code",
        "colab": {}
      },
      "source": [
        "regressor_ols=sm.OLS(real_y,real_x_opt).fit()"
      ],
      "execution_count": 86,
      "outputs": []
    },
    {
      "cell_type": "code",
      "metadata": {
        "id": "C4TJOepXxZ6Y",
        "colab_type": "code",
        "colab": {
          "base_uri": "https://localhost:8080/",
          "height": 636
        },
        "outputId": "f1ee5f4a-e079-46c7-a200-2c4bf0e89bc6"
      },
      "source": [
        "regressor_ols.summary()"
      ],
      "execution_count": 87,
      "outputs": [
        {
          "output_type": "execute_result",
          "data": {
            "text/html": [
              "<table class=\"simpletable\">\n",
              "<caption>OLS Regression Results</caption>\n",
              "<tr>\n",
              "  <th>Dep. Variable:</th>            <td>y</td>        <th>  R-squared:         </th> <td>   0.454</td> \n",
              "</tr>\n",
              "<tr>\n",
              "  <th>Model:</th>                   <td>OLS</td>       <th>  Adj. R-squared:    </th> <td>   0.453</td> \n",
              "</tr>\n",
              "<tr>\n",
              "  <th>Method:</th>             <td>Least Squares</td>  <th>  F-statistic:       </th> <td>   514.4</td> \n",
              "</tr>\n",
              "<tr>\n",
              "  <th>Date:</th>             <td>Fri, 31 Jul 2020</td> <th>  Prob (F-statistic):</th>  <td>  0.00</td>  \n",
              "</tr>\n",
              "<tr>\n",
              "  <th>Time:</th>                 <td>04:36:52</td>     <th>  Log-Likelihood:    </th> <td> -62429.</td> \n",
              "</tr>\n",
              "<tr>\n",
              "  <th>No. Observations:</th>      <td>  4340</td>      <th>  AIC:               </th> <td>1.249e+05</td>\n",
              "</tr>\n",
              "<tr>\n",
              "  <th>Df Residuals:</th>          <td>  4332</td>      <th>  BIC:               </th> <td>1.249e+05</td>\n",
              "</tr>\n",
              "<tr>\n",
              "  <th>Df Model:</th>              <td>     7</td>      <th>                     </th>     <td> </td>    \n",
              "</tr>\n",
              "<tr>\n",
              "  <th>Covariance Type:</th>      <td>nonrobust</td>    <th>                     </th>     <td> </td>    \n",
              "</tr>\n",
              "</table>\n",
              "<table class=\"simpletable\">\n",
              "<tr>\n",
              "    <td></td>       <th>coef</th>     <th>std err</th>      <th>t</th>      <th>P>|t|</th>  <th>[0.025</th>    <th>0.975]</th>  \n",
              "</tr>\n",
              "<tr>\n",
              "  <th>const</th> <td>-7.056e+07</td> <td> 3.79e+06</td> <td>  -18.638</td> <td> 0.000</td> <td> -7.8e+07</td> <td>-6.31e+07</td>\n",
              "</tr>\n",
              "<tr>\n",
              "  <th>x1</th>    <td> 3.567e+04</td> <td> 1877.834</td> <td>   18.994</td> <td> 0.000</td> <td>  3.2e+04</td> <td> 3.93e+04</td>\n",
              "</tr>\n",
              "<tr>\n",
              "  <th>x2</th>    <td>   -1.0473</td> <td>    0.168</td> <td>   -6.242</td> <td> 0.000</td> <td>   -1.376</td> <td>   -0.718</td>\n",
              "</tr>\n",
              "<tr>\n",
              "  <th>x3</th>    <td> 1.467e+05</td> <td> 7067.090</td> <td>   20.763</td> <td> 0.000</td> <td> 1.33e+05</td> <td> 1.61e+05</td>\n",
              "</tr>\n",
              "<tr>\n",
              "  <th>x4</th>    <td> 1.467e+05</td> <td> 7067.090</td> <td>   20.763</td> <td> 0.000</td> <td> 1.33e+05</td> <td> 1.61e+05</td>\n",
              "</tr>\n",
              "<tr>\n",
              "  <th>x5</th>    <td> -8.88e+05</td> <td> 2.17e+04</td> <td>  -40.972</td> <td> 0.000</td> <td> -9.3e+05</td> <td>-8.45e+05</td>\n",
              "</tr>\n",
              "<tr>\n",
              "  <th>x6</th>    <td>-5.571e+04</td> <td> 1.62e+04</td> <td>   -3.437</td> <td> 0.001</td> <td>-8.75e+04</td> <td>-2.39e+04</td>\n",
              "</tr>\n",
              "<tr>\n",
              "  <th>x7</th>    <td> 2.022e+05</td> <td> 1.05e+05</td> <td>    1.933</td> <td> 0.053</td> <td>-2915.101</td> <td> 4.07e+05</td>\n",
              "</tr>\n",
              "<tr>\n",
              "  <th>x8</th>    <td>-5.836e+04</td> <td> 2.73e+04</td> <td>   -2.135</td> <td> 0.033</td> <td>-1.12e+05</td> <td>-4759.011</td>\n",
              "</tr>\n",
              "</table>\n",
              "<table class=\"simpletable\">\n",
              "<tr>\n",
              "  <th>Omnibus:</th>       <td>4347.581</td> <th>  Durbin-Watson:     </th>  <td>   1.939</td> \n",
              "</tr>\n",
              "<tr>\n",
              "  <th>Prob(Omnibus):</th>  <td> 0.000</td>  <th>  Jarque-Bera (JB):  </th> <td>495066.074</td>\n",
              "</tr>\n",
              "<tr>\n",
              "  <th>Skew:</th>           <td> 4.623</td>  <th>  Prob(JB):          </th>  <td>    0.00</td> \n",
              "</tr>\n",
              "<tr>\n",
              "  <th>Kurtosis:</th>       <td>54.500</td>  <th>  Cond. No.          </th>  <td>8.52e+20</td> \n",
              "</tr>\n",
              "</table><br/><br/>Warnings:<br/>[1] Standard Errors assume that the covariance matrix of the errors is correctly specified.<br/>[2] The smallest eigenvalue is 3.92e-29. This might indicate that there are<br/>strong multicollinearity problems or that the design matrix is singular."
            ],
            "text/plain": [
              "<class 'statsmodels.iolib.summary.Summary'>\n",
              "\"\"\"\n",
              "                            OLS Regression Results                            \n",
              "==============================================================================\n",
              "Dep. Variable:                      y   R-squared:                       0.454\n",
              "Model:                            OLS   Adj. R-squared:                  0.453\n",
              "Method:                 Least Squares   F-statistic:                     514.4\n",
              "Date:                Fri, 31 Jul 2020   Prob (F-statistic):               0.00\n",
              "Time:                        04:36:52   Log-Likelihood:                -62429.\n",
              "No. Observations:                4340   AIC:                         1.249e+05\n",
              "Df Residuals:                    4332   BIC:                         1.249e+05\n",
              "Df Model:                           7                                         \n",
              "Covariance Type:            nonrobust                                         \n",
              "==============================================================================\n",
              "                 coef    std err          t      P>|t|      [0.025      0.975]\n",
              "------------------------------------------------------------------------------\n",
              "const      -7.056e+07   3.79e+06    -18.638      0.000    -7.8e+07   -6.31e+07\n",
              "x1          3.567e+04   1877.834     18.994      0.000     3.2e+04    3.93e+04\n",
              "x2            -1.0473      0.168     -6.242      0.000      -1.376      -0.718\n",
              "x3          1.467e+05   7067.090     20.763      0.000    1.33e+05    1.61e+05\n",
              "x4          1.467e+05   7067.090     20.763      0.000    1.33e+05    1.61e+05\n",
              "x5          -8.88e+05   2.17e+04    -40.972      0.000    -9.3e+05   -8.45e+05\n",
              "x6         -5.571e+04   1.62e+04     -3.437      0.001   -8.75e+04   -2.39e+04\n",
              "x7          2.022e+05   1.05e+05      1.933      0.053   -2915.101    4.07e+05\n",
              "x8         -5.836e+04   2.73e+04     -2.135      0.033   -1.12e+05   -4759.011\n",
              "==============================================================================\n",
              "Omnibus:                     4347.581   Durbin-Watson:                   1.939\n",
              "Prob(Omnibus):                  0.000   Jarque-Bera (JB):           495066.074\n",
              "Skew:                           4.623   Prob(JB):                         0.00\n",
              "Kurtosis:                      54.500   Cond. No.                     8.52e+20\n",
              "==============================================================================\n",
              "\n",
              "Warnings:\n",
              "[1] Standard Errors assume that the covariance matrix of the errors is correctly specified.\n",
              "[2] The smallest eigenvalue is 3.92e-29. This might indicate that there are\n",
              "strong multicollinearity problems or that the design matrix is singular.\n",
              "\"\"\""
            ]
          },
          "metadata": {
            "tags": []
          },
          "execution_count": 87
        }
      ]
    },
    {
      "cell_type": "code",
      "metadata": {
        "id": "GMp7we4hx0Zl",
        "colab_type": "code",
        "colab": {}
      },
      "source": [
        "regressor_two=LinearRegression()"
      ],
      "execution_count": 88,
      "outputs": []
    },
    {
      "cell_type": "code",
      "metadata": {
        "id": "4xaXu_0hynL1",
        "colab_type": "code",
        "colab": {}
      },
      "source": [
        "training_x,testing_x,training_y,testing_y=train_test_split(real_x_opt,real_y,test_size=0.3,random_state=0)"
      ],
      "execution_count": 89,
      "outputs": []
    },
    {
      "cell_type": "code",
      "metadata": {
        "id": "__jn7Valyvop",
        "colab_type": "code",
        "colab": {
          "base_uri": "https://localhost:8080/",
          "height": 35
        },
        "outputId": "1cc28924-3afc-4d93-c2f7-18c24021c253"
      },
      "source": [
        "regressor_two.fit(training_x,training_y)"
      ],
      "execution_count": 90,
      "outputs": [
        {
          "output_type": "execute_result",
          "data": {
            "text/plain": [
              "LinearRegression(copy_X=True, fit_intercept=True, n_jobs=None, normalize=False)"
            ]
          },
          "metadata": {
            "tags": []
          },
          "execution_count": 90
        }
      ]
    },
    {
      "cell_type": "code",
      "metadata": {
        "id": "VxDclrhbzD-B",
        "colab_type": "code",
        "colab": {}
      },
      "source": [
        "pred_y=regressor_two.predict(testing_x)"
      ],
      "execution_count": 91,
      "outputs": []
    },
    {
      "cell_type": "code",
      "metadata": {
        "id": "2ZIiE_eUzJiG",
        "colab_type": "code",
        "colab": {
          "base_uri": "https://localhost:8080/",
          "height": 35
        },
        "outputId": "a431de59-17b9-46fd-bfe0-15363ee04f62"
      },
      "source": [
        "score=r2_score(testing_y,pred_y)\n",
        "score"
      ],
      "execution_count": 92,
      "outputs": [
        {
          "output_type": "execute_result",
          "data": {
            "text/plain": [
              "0.48102176617667025"
            ]
          },
          "metadata": {
            "tags": []
          },
          "execution_count": 92
        }
      ]
    }
  ]
}